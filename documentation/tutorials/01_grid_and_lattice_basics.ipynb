{
 "cells": [
  {
   "cell_type": "markdown",
   "metadata": {},
   "source": [
    "# Lecture 1: grid and lattice basics"
   ]
  },
  {
   "cell_type": "code",
   "execution_count": 1,
   "metadata": {},
   "outputs": [],
   "source": [
    "import gpt as g"
   ]
  },
  {
   "cell_type": "markdown",
   "metadata": {},
   "source": [
    " Let us first create a $2^4$ grid in single precision:"
   ]
  },
  {
   "cell_type": "code",
   "execution_count": 2,
   "metadata": {},
   "outputs": [],
   "source": [
    "grid = g.grid([2, 2, 2, 2], g.single)"
   ]
  },
  {
   "cell_type": "markdown",
   "metadata": {},
   "source": [
    " Each grid has a string representation of its key features, which we can access by:"
   ]
  },
  {
   "cell_type": "code",
   "execution_count": 3,
   "metadata": {},
   "outputs": [
    {
     "name": "stdout",
     "output_type": "stream",
     "text": [
      "GPT :       0.405914 s : fdimensions = [2, 2, 2, 2]; mpi = [1, 1, 1, 1]; precision = single; checkerboard = full\n"
     ]
    }
   ],
   "source": [
    "g.message(grid)"
   ]
  },
  {
   "cell_type": "markdown",
   "metadata": {},
   "source": [
    " The grid is four-dimensional with two sites in each direction and not split over MPI ranks.  The grid is in single precision, as requested.  Finally, the grid is defined on all points, which is indicated by \"checkerboard = full\".  We will investigate grids which only live on even/odd sites later."
   ]
  },
  {
   "cell_type": "markdown",
   "metadata": {},
   "source": [
    " Next, we create a field of complex numbers living on this grid.  We then initialize the entire field to zero and set the value of a specific site."
   ]
  },
  {
   "cell_type": "code",
   "execution_count": 4,
   "metadata": {},
   "outputs": [],
   "source": [
    "c = g.complex(grid)\n",
    "\n",
    "c[:] = 0\n",
    "c[0, 1, 1, 0] = 2 + 3j"
   ]
  },
  {
   "cell_type": "markdown",
   "metadata": {},
   "source": [
    " We can inspect the contents of this field by accessing its text representation.  The easiest way to do this is."
   ]
  },
  {
   "cell_type": "code",
   "execution_count": 5,
   "metadata": {},
   "outputs": [
    {
     "name": "stdout",
     "output_type": "stream",
     "text": [
      "GPT :       0.422264 s : lattice(ot_complex_additive_group,single)\n",
      "                       : [0,0,0,0]\tS {S {S {(0,0)}}}\n",
      "                       : [1,0,0,0]\tS {S {S {(0,0)}}}\n",
      "                       : [0,1,0,0]\tS {S {S {(0,0)}}}\n",
      "                       : [1,1,0,0]\tS {S {S {(0,0)}}}\n",
      "                       : [0,0,1,0]\tS {S {S {(0,0)}}}\n",
      "                       : [1,0,1,0]\tS {S {S {(0,0)}}}\n",
      "                       : [0,1,1,0]\tS {S {S {(2,3)}}}\n",
      "                       : [1,1,1,0]\tS {S {S {(0,0)}}}\n",
      "                       : [0,0,0,1]\tS {S {S {(0,0)}}}\n",
      "                       : [1,0,0,1]\tS {S {S {(0,0)}}}\n",
      "                       : [0,1,0,1]\tS {S {S {(0,0)}}}\n",
      "                       : [1,1,0,1]\tS {S {S {(0,0)}}}\n",
      "                       : [0,0,1,1]\tS {S {S {(0,0)}}}\n",
      "                       : [1,0,1,1]\tS {S {S {(0,0)}}}\n",
      "                       : [0,1,1,1]\tS {S {S {(0,0)}}}\n",
      "                       : [1,1,1,1]\tS {S {S {(0,0)}}}\n",
      "                       : \n"
     ]
    }
   ],
   "source": [
    "g.message(c)"
   ]
  },
  {
   "cell_type": "markdown",
   "metadata": {},
   "source": [
    " We can access data of the lattice also as a numpy array.  The entire lattice data that is stored on the local MPI rank, e.g., is accessable by:"
   ]
  },
  {
   "cell_type": "code",
   "execution_count": 6,
   "metadata": {},
   "outputs": [
    {
     "data": {
      "text/plain": [
       "array([[0.+0.j],\n",
       "       [0.+0.j],\n",
       "       [0.+0.j],\n",
       "       [0.+0.j],\n",
       "       [0.+0.j],\n",
       "       [0.+0.j],\n",
       "       [2.+3.j],\n",
       "       [0.+0.j],\n",
       "       [0.+0.j],\n",
       "       [0.+0.j],\n",
       "       [0.+0.j],\n",
       "       [0.+0.j],\n",
       "       [0.+0.j],\n",
       "       [0.+0.j],\n",
       "       [0.+0.j],\n",
       "       [0.+0.j]], dtype=complex64)"
      ]
     },
     "execution_count": 6,
     "metadata": {},
     "output_type": "execute_result"
    }
   ],
   "source": [
    "c[:]"
   ]
  },
  {
   "cell_type": "markdown",
   "metadata": {},
   "source": [
    " We can also pick just a few points by giving the desired coordinates in a list or numpy array:"
   ]
  },
  {
   "cell_type": "code",
   "execution_count": 7,
   "metadata": {},
   "outputs": [
    {
     "data": {
      "text/plain": [
       "array([[2.+3.j],\n",
       "       [0.+0.j]], dtype=complex64)"
      ]
     },
     "execution_count": 7,
     "metadata": {},
     "output_type": "execute_result"
    }
   ],
   "source": [
    "c[[[0, 1, 1, 0], [1, 1, 1, 1]]]"
   ]
  },
  {
   "cell_type": "markdown",
   "metadata": {},
   "source": [
    " This syntax can also be used to set multiple field values at once:"
   ]
  },
  {
   "cell_type": "code",
   "execution_count": 8,
   "metadata": {},
   "outputs": [
    {
     "name": "stdout",
     "output_type": "stream",
     "text": [
      "GPT :       0.468409 s : lattice(ot_complex_additive_group,single)\n",
      "                       : [0,0,0,0]\tS {S {S {(2,3)}}}\n",
      "                       : [1,0,0,0]\tS {S {S {(2,3)}}}\n",
      "                       : [0,1,0,0]\tS {S {S {(0,0)}}}\n",
      "                       : [1,1,0,0]\tS {S {S {(0,0)}}}\n",
      "                       : [0,0,1,0]\tS {S {S {(0,0)}}}\n",
      "                       : [1,0,1,0]\tS {S {S {(0,0)}}}\n",
      "                       : [0,1,1,0]\tS {S {S {(2,3)}}}\n",
      "                       : [1,1,1,0]\tS {S {S {(0,0)}}}\n",
      "                       : [0,0,0,1]\tS {S {S {(0,0)}}}\n",
      "                       : [1,0,0,1]\tS {S {S {(0,0)}}}\n",
      "                       : [0,1,0,1]\tS {S {S {(0,0)}}}\n",
      "                       : [1,1,0,1]\tS {S {S {(0,0)}}}\n",
      "                       : [0,0,1,1]\tS {S {S {(0,0)}}}\n",
      "                       : [1,0,1,1]\tS {S {S {(0,0)}}}\n",
      "                       : [0,1,1,1]\tS {S {S {(0,0)}}}\n",
      "                       : [1,1,1,1]\tS {S {S {(0,0)}}}\n",
      "                       : \n"
     ]
    }
   ],
   "source": [
    "c[[[0, 0, 0, 0], [1, 0, 0, 0]]] = c[0, 1, 1, 0]\n",
    "\n",
    "g.message(c)"
   ]
  },
  {
   "cell_type": "markdown",
   "metadata": {},
   "source": [
    " Equivalently, we can also use the slice syntax.  If lower and upper bounds are not given for a specific dimension, it is bound to the view assigned to the current MPI rank."
   ]
  },
  {
   "cell_type": "code",
   "execution_count": 9,
   "metadata": {},
   "outputs": [
    {
     "name": "stdout",
     "output_type": "stream",
     "text": [
      "GPT :       0.488619 s : lattice(ot_complex_additive_group,single)\n",
      "                       : [0,0,0,0]\tS {S {S {(-1,0)}}}\n",
      "                       : [1,0,0,0]\tS {S {S {(-1,0)}}}\n",
      "                       : [0,1,0,0]\tS {S {S {(0,0)}}}\n",
      "                       : [1,1,0,0]\tS {S {S {(0,0)}}}\n",
      "                       : [0,0,1,0]\tS {S {S {(0,0)}}}\n",
      "                       : [1,0,1,0]\tS {S {S {(0,0)}}}\n",
      "                       : [0,1,1,0]\tS {S {S {(2,3)}}}\n",
      "                       : [1,1,1,0]\tS {S {S {(0,0)}}}\n",
      "                       : [0,0,0,1]\tS {S {S {(0,0)}}}\n",
      "                       : [1,0,0,1]\tS {S {S {(0,0)}}}\n",
      "                       : [0,1,0,1]\tS {S {S {(0,0)}}}\n",
      "                       : [1,1,0,1]\tS {S {S {(0,0)}}}\n",
      "                       : [0,0,1,1]\tS {S {S {(0,0)}}}\n",
      "                       : [1,0,1,1]\tS {S {S {(0,0)}}}\n",
      "                       : [0,1,1,1]\tS {S {S {(0,0)}}}\n",
      "                       : [1,1,1,1]\tS {S {S {(0,0)}}}\n",
      "                       : \n"
     ]
    }
   ],
   "source": [
    "c[:,0,0,0] = -1\n",
    "\n",
    "g.message(c)"
   ]
  },
  {
   "cell_type": "markdown",
   "metadata": {},
   "source": [
    " Next, let us investigate a field with internal indices such as a SU(3) color vector."
   ]
  },
  {
   "cell_type": "code",
   "execution_count": 10,
   "metadata": {},
   "outputs": [
    {
     "name": "stdout",
     "output_type": "stream",
     "text": [
      "GPT :       0.504483 s : lattice(ot_vector_color(3),single)\n",
      "                       : [0,0,0,0]\tS {S {V<3>{(0,0),(1,0),(2,0)}}}\n",
      "                       : [1,0,0,0]\tS {S {V<3>{(0,0),(1,0),(2,0)}}}\n",
      "                       : [0,1,0,0]\tS {S {V<3>{(0,0),(1,0),(2,0)}}}\n",
      "                       : [1,1,0,0]\tS {S {V<3>{(0,0),(1,0),(2,0)}}}\n",
      "                       : [0,0,1,0]\tS {S {V<3>{(0,0),(1,0),(2,0)}}}\n",
      "                       : [1,0,1,0]\tS {S {V<3>{(0,0),(1,0),(2,0)}}}\n",
      "                       : [0,1,1,0]\tS {S {V<3>{(0,0),(1,0),(2,0)}}}\n",
      "                       : [1,1,1,0]\tS {S {V<3>{(0,0),(1,0),(2,0)}}}\n",
      "                       : [0,0,0,1]\tS {S {V<3>{(0,0),(1,0),(2,0)}}}\n",
      "                       : [1,0,0,1]\tS {S {V<3>{(0,0),(1,0),(2,0)}}}\n",
      "                       : [0,1,0,1]\tS {S {V<3>{(0,0),(1,0),(2,0)}}}\n",
      "                       : [1,1,0,1]\tS {S {V<3>{(0,0),(1,0),(2,0)}}}\n",
      "                       : [0,0,1,1]\tS {S {V<3>{(0,0),(1,0),(2,0)}}}\n",
      "                       : [1,0,1,1]\tS {S {V<3>{(0,0),(1,0),(2,0)}}}\n",
      "                       : [0,1,1,1]\tS {S {V<3>{(0,0),(1,0),(2,0)}}}\n",
      "                       : [1,1,1,1]\tS {S {V<3>{(0,0),(1,0),(2,0)}}}\n",
      "                       : \n"
     ]
    }
   ],
   "source": [
    "v = g.vcolor(grid)\n",
    "\n",
    "v[:] = g.vcolor([0,1,2])\n",
    "\n",
    "g.message(v)"
   ]
  },
  {
   "cell_type": "markdown",
   "metadata": {},
   "source": [
    " Here, we initialized all positions of the field to a vector $[0,1,2]$.  We note that the same syntax `g.vcolor` can create a field if defined using a grid and a tensor object if initialized with its contents.\n",
    " \n",
    " The syntax to access the contents of the lattice fields trivially extends to internal indices.  Setting the top entry of the color vector to $-1$ on all points with fourth coordinate $0$ can be accomplished, e.g., by:"
   ]
  },
  {
   "cell_type": "code",
   "execution_count": 11,
   "metadata": {},
   "outputs": [
    {
     "name": "stdout",
     "output_type": "stream",
     "text": [
      "GPT :       0.534328 s : lattice(ot_vector_color(3),single)\n",
      "                       : [0,0,0,0]\tS {S {V<3>{(-1,0),(1,0),(2,0)}}}\n",
      "                       : [1,0,0,0]\tS {S {V<3>{(-1,0),(1,0),(2,0)}}}\n",
      "                       : [0,1,0,0]\tS {S {V<3>{(-1,0),(1,0),(2,0)}}}\n",
      "                       : [1,1,0,0]\tS {S {V<3>{(-1,0),(1,0),(2,0)}}}\n",
      "                       : [0,0,1,0]\tS {S {V<3>{(-1,0),(1,0),(2,0)}}}\n",
      "                       : [1,0,1,0]\tS {S {V<3>{(-1,0),(1,0),(2,0)}}}\n",
      "                       : [0,1,1,0]\tS {S {V<3>{(-1,0),(1,0),(2,0)}}}\n",
      "                       : [1,1,1,0]\tS {S {V<3>{(-1,0),(1,0),(2,0)}}}\n",
      "                       : [0,0,0,1]\tS {S {V<3>{(0,0),(1,0),(2,0)}}}\n",
      "                       : [1,0,0,1]\tS {S {V<3>{(0,0),(1,0),(2,0)}}}\n",
      "                       : [0,1,0,1]\tS {S {V<3>{(0,0),(1,0),(2,0)}}}\n",
      "                       : [1,1,0,1]\tS {S {V<3>{(0,0),(1,0),(2,0)}}}\n",
      "                       : [0,0,1,1]\tS {S {V<3>{(0,0),(1,0),(2,0)}}}\n",
      "                       : [1,0,1,1]\tS {S {V<3>{(0,0),(1,0),(2,0)}}}\n",
      "                       : [0,1,1,1]\tS {S {V<3>{(0,0),(1,0),(2,0)}}}\n",
      "                       : [1,1,1,1]\tS {S {V<3>{(0,0),(1,0),(2,0)}}}\n",
      "                       : \n"
     ]
    }
   ],
   "source": [
    "v[:, :, :, 0, 0] = -1\n",
    "\n",
    "g.message(v)"
   ]
  },
  {
   "cell_type": "code",
   "execution_count": null,
   "metadata": {},
   "outputs": [],
   "source": []
  }
 ],
 "metadata": {
  "kernelspec": {
   "display_name": "Python 3 (ipykernel)",
   "language": "python",
   "name": "python3"
  },
  "language_info": {
   "codemirror_mode": {
    "name": "ipython",
    "version": 3
   },
   "file_extension": ".py",
   "mimetype": "text/x-python",
   "name": "python",
   "nbconvert_exporter": "python",
   "pygments_lexer": "ipython3",
   "version": "3.8.10"
  }
 },
 "nbformat": 4,
 "nbformat_minor": 4
}
